{
 "cells": [
  {
   "cell_type": "code",
   "execution_count": 2,
   "metadata": {},
   "outputs": [
    {
     "name": "stdout",
     "output_type": "stream",
     "text": [
      "Americans Play Basketball\n",
      "Americans Play cricket\n",
      "Americans watch Basketball\n",
      "Americans watch cricket\n",
      "Indians Play Basketball\n",
      "Indians Play cricket\n",
      "Indians watch Basketball\n",
      "Indians watch cricket\n"
     ]
    }
   ],
   "source": [
    "#Implement a Python program to generate all sentences where subject is in[\"Americans\", \"Indians\"] and verb is in [\"Play\", \"watch\"] and the object is in [\"Baseball\",\"cricket\"].\n",
    "subject=[\"Americans\",\"Indians\"]\n",
    "verb=[\"Play\",\"watch\"]\n",
    "objects=[\"Basketball\",\"cricket\"]\n",
    "for i in subject:\n",
    "  for j in verb:\n",
    "    for  k in objects:\n",
    "      print(i,j,k)\n"
   ]
  },
  {
   "cell_type": "code",
   "execution_count": 6,
   "metadata": {},
   "outputs": [
    {
     "name": "stdout",
     "output_type": "stream",
     "text": [
      "[2002, 2009, 2016, 2023, 2037, 2044, 2051, 2058, 2072, 2079, 2086, 2093, 2107, 2114, 2121, 2128, 2142, 2149, 2156, 2163, 2177, 2184, 2191, 2198, 2212, 2219, 2226, 2233, 2247, 2254, 2261, 2268, 2282, 2289, 2296, 2303, 2317, 2324, 2331, 2338, 2352, 2359, 2366, 2373, 2387, 2394, 2401, 2408, 2422, 2429, 2436, 2443, 2457, 2464, 2471, 2478, 2492, 2499, 2506, 2513, 2527, 2534, 2541, 2548, 2562, 2569, 2576, 2583, 2597, 2604, 2611, 2618, 2632, 2639, 2646, 2653, 2667, 2674, 2681, 2688, 2702, 2709, 2716, 2723, 2737, 2744, 2751, 2758, 2772, 2779, 2786, 2793, 2807, 2814, 2821, 2828, 2842, 2849, 2856, 2863, 2877, 2884, 2891, 2898, 2912, 2919, 2926, 2933, 2947, 2954, 2961, 2968, 2982, 2989, 2996, 3003, 3017, 3024, 3031, 3038, 3052, 3059, 3066, 3073, 3087, 3094, 3101, 3108, 3122, 3129, 3136, 3143, 3157, 3164, 3171, 3178, 3192, 3199],\n"
     ]
    }
   ],
   "source": [
    "#Write a program which will find all such numbers which are divisible by 7 but are not a multiple of 5 5, between 2000 and 3200 (both included). The numbers obtained should be printed\n",
    "#in a comma-separated sequence on a single line.\n",
    "m=[]\n",
    "j=[]\n",
    "for i in range(2000,3200):\n",
    "    if(i%7==0 and i%5!=0):\n",
    "        m.append(i)\n",
    "j=str(m)\n",
    "print(j+str(','))"
   ]
  },
  {
   "cell_type": "code",
   "execution_count": 7,
   "metadata": {},
   "outputs": [
    {
     "name": "stdout",
     "output_type": "stream",
     "text": [
      "enter first name:nithya \n",
      "enter last name:koganti\n",
      "itnagok  ayhtin\n"
     ]
    }
   ],
   "source": [
    "#2. Write a Python program to accept the user's first and last name and then getting them printed in the the reverse order with a space between first name and last name.\n",
    "m=[]\n",
    "f=input(\"enter first name:\")\n",
    "l=input(\"enter last name:\")\n",
    "\n",
    "print(l[::-1]+' '+f[::-1])\n"
   ]
  },
  {
   "cell_type": "code",
   "execution_count": 5,
   "metadata": {},
   "outputs": [
    {
     "name": "stdout",
     "output_type": "stream",
     "text": [
      "the volume of sphere is: 7234.5599999999995\n"
     ]
    }
   ],
   "source": [
    "#Write a Python program to find the volume of a sphere with diameter 12 cm.\n",
    "pi=3.14\n",
    "r=12\n",
    "v=4/3*pi*r**3\n",
    "print(\"the volume of sphere is:\",v)"
   ]
  },
  {
   "cell_type": "code",
   "execution_count": null,
   "metadata": {},
   "outputs": [],
   "source": []
  }
 ],
 "metadata": {
  "kernelspec": {
   "display_name": "Python 3",
   "language": "python",
   "name": "python3"
  },
  "language_info": {
   "codemirror_mode": {
    "name": "ipython",
    "version": 3
   },
   "file_extension": ".py",
   "mimetype": "text/x-python",
   "name": "python",
   "nbconvert_exporter": "python",
   "pygments_lexer": "ipython3",
   "version": "3.8.3"
  }
 },
 "nbformat": 4,
 "nbformat_minor": 4
}
